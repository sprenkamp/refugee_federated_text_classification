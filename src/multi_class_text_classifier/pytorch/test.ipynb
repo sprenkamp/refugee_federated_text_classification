{
 "cells": [
  {
   "cell_type": "code",
   "execution_count": 2,
   "metadata": {},
   "outputs": [],
   "source": [
    "import numpy as np\n",
    "import pandas as pd"
   ]
  },
  {
   "cell_type": "code",
   "execution_count": 23,
   "metadata": {},
   "outputs": [],
   "source": [
    "import random \n",
    "df_out = pd.read_csv('../../../data/df_gpt_output.csv')\n",
    "shuffled_df = df_out.sample(frac=1, random_state=random.seed())\n",
    "df_out = shuffled_df.reset_index(drop=True)\n",
    "df_out.to_csv('../../../data/df_gpt_output_shuffled.csv', index=False)\n",
    "df_out[['federation_level','x', 'x_translation']].to_csv('../../../data/df_shuffled.csv', index=False)\n",
    "\n",
    "# max_length = 512\n",
    "# df = df_out[df_out['x'].str.len() < max_length]\n",
    "# new_class_dict={\"Medical\":np.int64(0), \n",
    "#            \"Accommodation\":np.int64(1),\n",
    "#            \"Government Services\":np.int64(2), \n",
    "#            \"Banking\":np.int64(3), \n",
    "#            \"Transport\":np.int64(4),            \n",
    "#            }\n",
    "# df_out['y'] = df_out['y_gpt_pred_str'].map(new_class_dict)\n",
    "# df_out = df_out.dropna(subset=['y'])"
   ]
  },
  {
   "cell_type": "code",
   "execution_count": null,
   "metadata": {},
   "outputs": [
    {
     "data": {
      "text/plain": [
       "5"
      ]
     },
     "execution_count": 13,
     "metadata": {},
     "output_type": "execute_result"
    }
   ],
   "source": [
    "df_out.y.unique()"
   ]
  },
  {
   "cell_type": "code",
   "execution_count": 20,
   "metadata": {},
   "outputs": [
    {
     "data": {
      "text/html": [
       "<div>\n",
       "<style scoped>\n",
       "    .dataframe tbody tr th:only-of-type {\n",
       "        vertical-align: middle;\n",
       "    }\n",
       "\n",
       "    .dataframe tbody tr th {\n",
       "        vertical-align: top;\n",
       "    }\n",
       "\n",
       "    .dataframe thead th {\n",
       "        text-align: right;\n",
       "    }\n",
       "</style>\n",
       "<table border=\"1\" class=\"dataframe\">\n",
       "  <thead>\n",
       "    <tr style=\"text-align: right;\">\n",
       "      <th></th>\n",
       "      <th>federation_level</th>\n",
       "      <th>x</th>\n",
       "      <th>x_translation</th>\n",
       "      <th>y_gpt_pred_str</th>\n",
       "      <th>y</th>\n",
       "    </tr>\n",
       "  </thead>\n",
       "  <tbody>\n",
       "    <tr>\n",
       "      <th>66</th>\n",
       "      <td>Spain</td>\n",
       "      <td>Скажите, кто то летал самолётом в Испанию неда...</td>\n",
       "      <td>Can someone tell me if they recently flew to S...</td>\n",
       "      <td>Transport</td>\n",
       "      <td>4.0</td>\n",
       "    </tr>\n",
       "    <tr>\n",
       "      <th>93</th>\n",
       "      <td>Spain</td>\n",
       "      <td>Підкажіть будь-ласка чи дійсно на внутрішні ре...</td>\n",
       "      <td>Please tell me if it is really not necessary t...</td>\n",
       "      <td>Transport</td>\n",
       "      <td>4.0</td>\n",
       "    </tr>\n",
       "    <tr>\n",
       "      <th>156</th>\n",
       "      <td>Germany</td>\n",
       "      <td>Это частично решит проблему. Отец остаётся без...</td>\n",
       "      <td>This will partially solve the problem. My fath...</td>\n",
       "      <td>Transport</td>\n",
       "      <td>4.0</td>\n",
       "    </tr>\n",
       "    <tr>\n",
       "      <th>222</th>\n",
       "      <td>Germany</td>\n",
       "      <td>Да. Предъявляй украинский загран паспорт. Если...</td>\n",
       "      <td>Yes. Present your Ukrainian passport. If you a...</td>\n",
       "      <td>Transport</td>\n",
       "      <td>4.0</td>\n",
       "    </tr>\n",
       "    <tr>\n",
       "      <th>223</th>\n",
       "      <td>Germany</td>\n",
       "      <td>Добрый день, а до какого числа бесплатный прое...</td>\n",
       "      <td>Hello, until what date is free transportation ...</td>\n",
       "      <td>Transport</td>\n",
       "      <td>4.0</td>\n",
       "    </tr>\n",
       "    <tr>\n",
       "      <th>225</th>\n",
       "      <td>Germany</td>\n",
       "      <td>Мы приехали вообще бесплатно. Эвакуационный по...</td>\n",
       "      <td>We arrived completely for free. The evacuation...</td>\n",
       "      <td>Transport</td>\n",
       "      <td>4.0</td>\n",
       "    </tr>\n",
       "    <tr>\n",
       "      <th>226</th>\n",
       "      <td>Germany</td>\n",
       "      <td>Підскажіть будь ласка,яка є інформація щодо бе...</td>\n",
       "      <td>Please tell me, what information is available ...</td>\n",
       "      <td>Transport</td>\n",
       "      <td>4.0</td>\n",
       "    </tr>\n",
       "    <tr>\n",
       "      <th>227</th>\n",
       "      <td>Germany</td>\n",
       "      <td>добрый день, подскажите пожалуйста, есть ли пр...</td>\n",
       "      <td>Good day. Please tell me if there is a direct ...</td>\n",
       "      <td>Transport</td>\n",
       "      <td>4.0</td>\n",
       "    </tr>\n",
       "    <tr>\n",
       "      <th>228</th>\n",
       "      <td>Germany</td>\n",
       "      <td>Мы сегодня были. Нам выдали бесплатные билеты....</td>\n",
       "      <td>We were there today. We were given free ticket...</td>\n",
       "      <td>Transport</td>\n",
       "      <td>4.0</td>\n",
       "    </tr>\n",
       "    <tr>\n",
       "      <th>231</th>\n",
       "      <td>Germany</td>\n",
       "      <td>Доброй ночи ) я из Украины ,еду в Ганновер, кт...</td>\n",
       "      <td>Good night. I am from Ukraine and I am going t...</td>\n",
       "      <td>Transport</td>\n",
       "      <td>4.0</td>\n",
       "    </tr>\n",
       "  </tbody>\n",
       "</table>\n",
       "</div>"
      ],
      "text/plain": [
       "    federation_level                                                  x  \\\n",
       "66             Spain  Скажите, кто то летал самолётом в Испанию неда...   \n",
       "93             Spain  Підкажіть будь-ласка чи дійсно на внутрішні ре...   \n",
       "156          Germany  Это частично решит проблему. Отец остаётся без...   \n",
       "222          Germany  Да. Предъявляй украинский загран паспорт. Если...   \n",
       "223          Germany  Добрый день, а до какого числа бесплатный прое...   \n",
       "225          Germany  Мы приехали вообще бесплатно. Эвакуационный по...   \n",
       "226          Germany  Підскажіть будь ласка,яка є інформація щодо бе...   \n",
       "227          Germany  добрый день, подскажите пожалуйста, есть ли пр...   \n",
       "228          Germany  Мы сегодня были. Нам выдали бесплатные билеты....   \n",
       "231          Germany  Доброй ночи ) я из Украины ,еду в Ганновер, кт...   \n",
       "\n",
       "                                         x_translation y_gpt_pred_str    y  \n",
       "66   Can someone tell me if they recently flew to S...      Transport  4.0  \n",
       "93   Please tell me if it is really not necessary t...      Transport  4.0  \n",
       "156  This will partially solve the problem. My fath...      Transport  4.0  \n",
       "222  Yes. Present your Ukrainian passport. If you a...      Transport  4.0  \n",
       "223  Hello, until what date is free transportation ...      Transport  4.0  \n",
       "225  We arrived completely for free. The evacuation...      Transport  4.0  \n",
       "226  Please tell me, what information is available ...      Transport  4.0  \n",
       "227  Good day. Please tell me if there is a direct ...      Transport  4.0  \n",
       "228  We were there today. We were given free ticket...      Transport  4.0  \n",
       "231  Good night. I am from Ukraine and I am going t...      Transport  4.0  "
      ]
     },
     "execution_count": 20,
     "metadata": {},
     "output_type": "execute_result"
    }
   ],
   "source": [
    "df_out[df_out['y']==4].head(10)"
   ]
  },
  {
   "cell_type": "code",
   "execution_count": 17,
   "metadata": {},
   "outputs": [],
   "source": [
    "import pandas as pd\n",
    "\n",
    "df = pd.read_csv('../../../data/df_shuffled_annoted_sven.csv', sep=';')\n",
    "df = df[df['y']!=-1]\n",
    "\n",
    "map = {\"Czech Republic\":'CzechRepublic',\n",
    "       \"Germany\":'Germany',\n",
    "       \"France\":'France',\n",
    "       \"Belgium\":'Belgium',\n",
    "       \"Switzerland\":'Switzerland',\n",
    "       \"Spain\":'Spain',\n",
    "       \"Portugal\":'Portugal',\n",
    "       \"Poland\":'Poland'\n",
    "       }\n",
    "df['federation_level'] = df['federation_level'].map(map)\n",
    "df.to_csv('../../../data/df_shuffled_sven.csv', index=False)"
   ]
  },
  {
   "cell_type": "code",
   "execution_count": 14,
   "metadata": {},
   "outputs": [],
   "source": [
    "df[\"fed_y\"] = df[\"federation_level\"] + \"_\" + df[\"y\"].astype(str)"
   ]
  },
  {
   "cell_type": "code",
   "execution_count": 18,
   "metadata": {},
   "outputs": [
    {
     "data": {
      "text/plain": [
       "array(['Portugal', 'France', 'Germany', 'Switzerland', 'Belgium', 'Spain',\n",
       "       'Poland', 'Czech Republic'], dtype=object)"
      ]
     },
     "execution_count": 18,
     "metadata": {},
     "output_type": "execute_result"
    }
   ],
   "source": [
    "df[\"federation_level\"].unique()"
   ]
  },
  {
   "cell_type": "code",
   "execution_count": 3,
   "metadata": {},
   "outputs": [
    {
     "data": {
      "text/plain": [
       "Germany           151\n",
       "Spain             142\n",
       "France            116\n",
       "Switzerland        96\n",
       "Belgium            92\n",
       "Poland             62\n",
       "Portugal           59\n",
       "Czech Republic     48\n",
       "Name: federation_level, dtype: int64"
      ]
     },
     "execution_count": 3,
     "metadata": {},
     "output_type": "execute_result"
    }
   ],
   "source": [
    "df[\"federation_level\"].value_counts()"
   ]
  },
  {
   "cell_type": "code",
   "execution_count": 9,
   "metadata": {},
   "outputs": [],
   "source": [
    "from sklearn.model_selection import train_test_split\n",
    "train_data, val_data = train_test_split(df[df.federation_level==\"Czech Republic\"], test_size=0.2, random_state=42)"
   ]
  },
  {
   "cell_type": "code",
   "execution_count": null,
   "metadata": {},
   "outputs": [],
   "source": []
  }
 ],
 "metadata": {
  "kernelspec": {
   "display_name": "base",
   "language": "python",
   "name": "python3"
  },
  "language_info": {
   "codemirror_mode": {
    "name": "ipython",
    "version": 3
   },
   "file_extension": ".py",
   "mimetype": "text/x-python",
   "name": "python",
   "nbconvert_exporter": "python",
   "pygments_lexer": "ipython3",
   "version": "3.9.13"
  },
  "orig_nbformat": 4
 },
 "nbformat": 4,
 "nbformat_minor": 2
}
