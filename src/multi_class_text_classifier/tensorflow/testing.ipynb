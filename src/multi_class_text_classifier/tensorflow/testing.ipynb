{
 "cells": [
  {
   "cell_type": "code",
   "execution_count": 1,
   "metadata": {},
   "outputs": [],
   "source": [
    "import pandas as pd"
   ]
  },
  {
   "cell_type": "code",
   "execution_count": 16,
   "metadata": {},
   "outputs": [
    {
     "ename": "AttributeError",
     "evalue": "'DataFrame' object has no attribute 'cluster'",
     "output_type": "error",
     "traceback": [
      "\u001b[0;31m---------------------------------------------------------------------------\u001b[0m",
      "\u001b[0;31mAttributeError\u001b[0m                            Traceback (most recent call last)",
      "\u001b[1;32m/Users/kiliansprenkamp/Desktop/code/refugee_supervised_text_classification/src/multi_class_text_classifier/tensorflow/testing.ipynb Cell 2\u001b[0m in \u001b[0;36m<cell line: 3>\u001b[0;34m()\u001b[0m\n\u001b[1;32m      <a href='vscode-notebook-cell:/Users/kiliansprenkamp/Desktop/code/refugee_supervised_text_classification/src/multi_class_text_classifier/tensorflow/testing.ipynb#W1sZmlsZQ%3D%3D?line=0'>1</a>\u001b[0m \u001b[39m# preprocess\u001b[39;00m\n\u001b[1;32m      <a href='vscode-notebook-cell:/Users/kiliansprenkamp/Desktop/code/refugee_supervised_text_classification/src/multi_class_text_classifier/tensorflow/testing.ipynb#W1sZmlsZQ%3D%3D?line=1'>2</a>\u001b[0m df \u001b[39m=\u001b[39m pd\u001b[39m.\u001b[39mread_csv(\u001b[39m\"\u001b[39m\u001b[39m../../../data/df_complete.csv\u001b[39m\u001b[39m\"\u001b[39m)\n\u001b[0;32m----> <a href='vscode-notebook-cell:/Users/kiliansprenkamp/Desktop/code/refugee_supervised_text_classification/src/multi_class_text_classifier/tensorflow/testing.ipynb#W1sZmlsZQ%3D%3D?line=2'>3</a>\u001b[0m df \u001b[39m=\u001b[39m df[df\u001b[39m.\u001b[39;49mcluster\u001b[39m!=\u001b[39m\u001b[39m-\u001b[39m\u001b[39m1\u001b[39m]\n\u001b[1;32m      <a href='vscode-notebook-cell:/Users/kiliansprenkamp/Desktop/code/refugee_supervised_text_classification/src/multi_class_text_classifier/tensorflow/testing.ipynb#W1sZmlsZQ%3D%3D?line=3'>4</a>\u001b[0m url_country_dict \u001b[39m=\u001b[39m {\n\u001b[1;32m      <a href='vscode-notebook-cell:/Users/kiliansprenkamp/Desktop/code/refugee_supervised_text_classification/src/multi_class_text_classifier/tensorflow/testing.ipynb#W1sZmlsZQ%3D%3D?line=4'>5</a>\u001b[0m     \u001b[39m'\u001b[39m\u001b[39mhttps://t.me/refugeesinAustria\u001b[39m\u001b[39m'\u001b[39m: \u001b[39m'\u001b[39m\u001b[39mAustria\u001b[39m\u001b[39m'\u001b[39m,\n\u001b[1;32m      <a href='vscode-notebook-cell:/Users/kiliansprenkamp/Desktop/code/refugee_supervised_text_classification/src/multi_class_text_classifier/tensorflow/testing.ipynb#W1sZmlsZQ%3D%3D?line=5'>6</a>\u001b[0m     \u001b[39m'\u001b[39m\u001b[39mhttps://t.me/refugeesinBelgium\u001b[39m\u001b[39m'\u001b[39m: \u001b[39m'\u001b[39m\u001b[39mBelgium\u001b[39m\u001b[39m'\u001b[39m,\n\u001b[0;32m   (...)\u001b[0m\n\u001b[1;32m     <a href='vscode-notebook-cell:/Users/kiliansprenkamp/Desktop/code/refugee_supervised_text_classification/src/multi_class_text_classifier/tensorflow/testing.ipynb#W1sZmlsZQ%3D%3D?line=25'>26</a>\u001b[0m     \u001b[39m'\u001b[39m\u001b[39mhttps://t.me/moldovaukraina\u001b[39m\u001b[39m'\u001b[39m: \u001b[39m'\u001b[39m\u001b[39mMoldova\u001b[39m\u001b[39m'\u001b[39m\n\u001b[1;32m     <a href='vscode-notebook-cell:/Users/kiliansprenkamp/Desktop/code/refugee_supervised_text_classification/src/multi_class_text_classifier/tensorflow/testing.ipynb#W1sZmlsZQ%3D%3D?line=26'>27</a>\u001b[0m }\n\u001b[1;32m     <a href='vscode-notebook-cell:/Users/kiliansprenkamp/Desktop/code/refugee_supervised_text_classification/src/multi_class_text_classifier/tensorflow/testing.ipynb#W1sZmlsZQ%3D%3D?line=28'>29</a>\u001b[0m \u001b[39m# Apply the dictionary to the 'chat' column\u001b[39;00m\n",
      "File \u001b[0;32m~/miniconda3/envs/refugeeAnalysis/lib/python3.9/site-packages/pandas/core/generic.py:5902\u001b[0m, in \u001b[0;36mNDFrame.__getattr__\u001b[0;34m(self, name)\u001b[0m\n\u001b[1;32m   5895\u001b[0m \u001b[39mif\u001b[39;00m (\n\u001b[1;32m   5896\u001b[0m     name \u001b[39mnot\u001b[39;00m \u001b[39min\u001b[39;00m \u001b[39mself\u001b[39m\u001b[39m.\u001b[39m_internal_names_set\n\u001b[1;32m   5897\u001b[0m     \u001b[39mand\u001b[39;00m name \u001b[39mnot\u001b[39;00m \u001b[39min\u001b[39;00m \u001b[39mself\u001b[39m\u001b[39m.\u001b[39m_metadata\n\u001b[1;32m   5898\u001b[0m     \u001b[39mand\u001b[39;00m name \u001b[39mnot\u001b[39;00m \u001b[39min\u001b[39;00m \u001b[39mself\u001b[39m\u001b[39m.\u001b[39m_accessors\n\u001b[1;32m   5899\u001b[0m     \u001b[39mand\u001b[39;00m \u001b[39mself\u001b[39m\u001b[39m.\u001b[39m_info_axis\u001b[39m.\u001b[39m_can_hold_identifiers_and_holds_name(name)\n\u001b[1;32m   5900\u001b[0m ):\n\u001b[1;32m   5901\u001b[0m     \u001b[39mreturn\u001b[39;00m \u001b[39mself\u001b[39m[name]\n\u001b[0;32m-> 5902\u001b[0m \u001b[39mreturn\u001b[39;00m \u001b[39mobject\u001b[39;49m\u001b[39m.\u001b[39;49m\u001b[39m__getattribute__\u001b[39;49m(\u001b[39mself\u001b[39;49m, name)\n",
      "\u001b[0;31mAttributeError\u001b[0m: 'DataFrame' object has no attribute 'cluster'"
     ]
    }
   ],
   "source": [
    "# preprocess\n",
    "df = pd.read_csv(\"../../../data/df_complete.csv\")\n",
    "df = df[df.cluster!=-1]\n",
    "url_country_dict = {\n",
    "    'https://t.me/refugeesinAustria': 'Austria',\n",
    "    'https://t.me/refugeesinBelgium': 'Belgium',\n",
    "    'https://t.me/uacyprus': 'Cyprus',\n",
    "    'https://t.me/dopomoga_cz': 'Czech Republic',\n",
    "    'https://t.me/Denmark_Ukraine': 'Denmark',\n",
    "    'https://t.me/refugeesinFrance': 'France',\n",
    "    'https://t.me/refugees_in_Germany': 'Germany',\n",
    "    'https://t.me/help_ukranian_in_greece_chat': 'Greece',\n",
    "    'https://t.me/helpukraine_hungary': 'Hungary',\n",
    "    'https://t.me/WelcomeIreland': 'Ireland',\n",
    "    'https://t.me/Ukrainians_Italy': 'Italy',\n",
    "    'https://t.me/ukrainelatvia': 'Latvia',\n",
    "    'https://t.me/helpforUkrainians_Luxemburg': 'Luxembourg',\n",
    "    'https://t.me/dopomoganetherlands': 'Netherlands',\n",
    "    'https://t.me/refugeesinPoland': 'Poland',\n",
    "    'https://t.me/toportugal': 'Portugal',\n",
    "    'https://t.me/UkrainiansinRomania': 'Romania',\n",
    "    'https://t.me/ukrajinci_na_slovensku': 'Slovakia',\n",
    "    'https://t.me/espana_ucrania': 'Spain',\n",
    "    'https://t.me/refugeesinSwitzerland': 'Switzerland',\n",
    "    'https://t.me/UA_England': 'United Kingdom',\n",
    "    'https://t.me/moldovaukraina': 'Moldova'\n",
    "}\n",
    "\n",
    "# Apply the dictionary to the 'chat' column\n",
    "df['federation_level'] = df['chat'].map(url_country_dict)\n",
    "df = df[[\"federation_level\", \"messageText\", \"cluster\"]]\n",
    "df.columns = [\"federation_level\", \"x\", \"y\"]\n",
    "df.to_csv(\"../../../data/df_testing.csv\", index=False)"
   ]
  },
  {
   "cell_type": "code",
   "execution_count": null,
   "metadata": {},
   "outputs": [],
   "source": []
  }
 ],
 "metadata": {
  "kernelspec": {
   "display_name": "refugeeAnalysis",
   "language": "python",
   "name": "python3"
  },
  "language_info": {
   "codemirror_mode": {
    "name": "ipython",
    "version": 3
   },
   "file_extension": ".py",
   "mimetype": "text/x-python",
   "name": "python",
   "nbconvert_exporter": "python",
   "pygments_lexer": "ipython3",
   "version": "3.9.13"
  },
  "orig_nbformat": 4
 },
 "nbformat": 4,
 "nbformat_minor": 2
}
