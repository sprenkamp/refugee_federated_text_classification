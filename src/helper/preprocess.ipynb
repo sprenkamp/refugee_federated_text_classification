{
 "cells": [
  {
   "cell_type": "code",
   "execution_count": 1,
   "metadata": {},
   "outputs": [],
   "source": [
    "import pandas as pd"
   ]
  },
  {
   "cell_type": "code",
   "execution_count": 127,
   "metadata": {},
   "outputs": [],
   "source": [
    "df = pd.read_csv('../../data/df_testing.csv')\n",
    "df = df[df.federation_level.isin([\"Germany\", \"Spain\", \"France\", \"Switzerland\", \"Belgium\", \"Portugal\", \"Czech Republic\", \"Poland\"])]\n",
    "df = df.drop_duplicates(subset=['x'])\n",
    "df = df[df.x.str.len() <= 512]\n",
    "df = df[df.y.isin([0, # Medical\n",
    "                1, # Accomodation\n",
    "                2, #Transport\n",
    "                4, #Banking,\n",
    "                6, #Government Services\n",
    "                7, #Transport\n",
    "                8, #Government Services\n",
    "                9, #Medical                  \n",
    "                ])]\n",
    "new_class_dict={0:0, #Medical\n",
    "               1:1, #Accomodation\n",
    "               2:2, #Transport\n",
    "               4:3, #Banking\n",
    "               6:4, #Government Services\n",
    "               7:2, #Transport\n",
    "               8:4, #Government Services\n",
    "               9:0, #Medical               \n",
    "               }\n",
    "df['y'] = df['y'].map(new_class_dict)\n",
    "df['fed_y'] = df['federation_level'] + '_' + df['y'].astype(str)"
   ]
  },
  {
   "cell_type": "code",
   "execution_count": 148,
   "metadata": {},
   "outputs": [
    {
     "name": "stdout",
     "output_type": "stream",
     "text": [
      "(930, 4)\n"
     ]
    },
    {
     "name": "stderr",
     "output_type": "stream",
     "text": [
      "/var/folders/jx/2l7p1chd2l7djbz_8s3s_4z80000gn/T/ipykernel_46933/1348330129.py:10: FutureWarning: The frame.append method is deprecated and will be removed from pandas in a future version. Use pandas.concat instead.\n",
      "  df_new = df_new.append(df[df.fed_y == fed_y_name].sample(n=int(count_new)))\n",
      "/var/folders/jx/2l7p1chd2l7djbz_8s3s_4z80000gn/T/ipykernel_46933/1348330129.py:10: FutureWarning: The frame.append method is deprecated and will be removed from pandas in a future version. Use pandas.concat instead.\n",
      "  df_new = df_new.append(df[df.fed_y == fed_y_name].sample(n=int(count_new)))\n",
      "/var/folders/jx/2l7p1chd2l7djbz_8s3s_4z80000gn/T/ipykernel_46933/1348330129.py:10: FutureWarning: The frame.append method is deprecated and will be removed from pandas in a future version. Use pandas.concat instead.\n",
      "  df_new = df_new.append(df[df.fed_y == fed_y_name].sample(n=int(count_new)))\n",
      "/var/folders/jx/2l7p1chd2l7djbz_8s3s_4z80000gn/T/ipykernel_46933/1348330129.py:10: FutureWarning: The frame.append method is deprecated and will be removed from pandas in a future version. Use pandas.concat instead.\n",
      "  df_new = df_new.append(df[df.fed_y == fed_y_name].sample(n=int(count_new)))\n",
      "/var/folders/jx/2l7p1chd2l7djbz_8s3s_4z80000gn/T/ipykernel_46933/1348330129.py:10: FutureWarning: The frame.append method is deprecated and will be removed from pandas in a future version. Use pandas.concat instead.\n",
      "  df_new = df_new.append(df[df.fed_y == fed_y_name].sample(n=int(count_new)))\n",
      "/var/folders/jx/2l7p1chd2l7djbz_8s3s_4z80000gn/T/ipykernel_46933/1348330129.py:10: FutureWarning: The frame.append method is deprecated and will be removed from pandas in a future version. Use pandas.concat instead.\n",
      "  df_new = df_new.append(df[df.fed_y == fed_y_name].sample(n=int(count_new)))\n",
      "/var/folders/jx/2l7p1chd2l7djbz_8s3s_4z80000gn/T/ipykernel_46933/1348330129.py:10: FutureWarning: The frame.append method is deprecated and will be removed from pandas in a future version. Use pandas.concat instead.\n",
      "  df_new = df_new.append(df[df.fed_y == fed_y_name].sample(n=int(count_new)))\n",
      "/var/folders/jx/2l7p1chd2l7djbz_8s3s_4z80000gn/T/ipykernel_46933/1348330129.py:10: FutureWarning: The frame.append method is deprecated and will be removed from pandas in a future version. Use pandas.concat instead.\n",
      "  df_new = df_new.append(df[df.fed_y == fed_y_name].sample(n=int(count_new)))\n",
      "/var/folders/jx/2l7p1chd2l7djbz_8s3s_4z80000gn/T/ipykernel_46933/1348330129.py:10: FutureWarning: The frame.append method is deprecated and will be removed from pandas in a future version. Use pandas.concat instead.\n",
      "  df_new = df_new.append(df[df.fed_y == fed_y_name].sample(n=int(count_new)))\n",
      "/var/folders/jx/2l7p1chd2l7djbz_8s3s_4z80000gn/T/ipykernel_46933/1348330129.py:10: FutureWarning: The frame.append method is deprecated and will be removed from pandas in a future version. Use pandas.concat instead.\n",
      "  df_new = df_new.append(df[df.fed_y == fed_y_name].sample(n=int(count_new)))\n",
      "/var/folders/jx/2l7p1chd2l7djbz_8s3s_4z80000gn/T/ipykernel_46933/1348330129.py:10: FutureWarning: The frame.append method is deprecated and will be removed from pandas in a future version. Use pandas.concat instead.\n",
      "  df_new = df_new.append(df[df.fed_y == fed_y_name].sample(n=int(count_new)))\n",
      "/var/folders/jx/2l7p1chd2l7djbz_8s3s_4z80000gn/T/ipykernel_46933/1348330129.py:10: FutureWarning: The frame.append method is deprecated and will be removed from pandas in a future version. Use pandas.concat instead.\n",
      "  df_new = df_new.append(df[df.fed_y == fed_y_name].sample(n=int(count_new)))\n",
      "/var/folders/jx/2l7p1chd2l7djbz_8s3s_4z80000gn/T/ipykernel_46933/1348330129.py:10: FutureWarning: The frame.append method is deprecated and will be removed from pandas in a future version. Use pandas.concat instead.\n",
      "  df_new = df_new.append(df[df.fed_y == fed_y_name].sample(n=int(count_new)))\n",
      "/var/folders/jx/2l7p1chd2l7djbz_8s3s_4z80000gn/T/ipykernel_46933/1348330129.py:10: FutureWarning: The frame.append method is deprecated and will be removed from pandas in a future version. Use pandas.concat instead.\n",
      "  df_new = df_new.append(df[df.fed_y == fed_y_name].sample(n=int(count_new)))\n",
      "/var/folders/jx/2l7p1chd2l7djbz_8s3s_4z80000gn/T/ipykernel_46933/1348330129.py:10: FutureWarning: The frame.append method is deprecated and will be removed from pandas in a future version. Use pandas.concat instead.\n",
      "  df_new = df_new.append(df[df.fed_y == fed_y_name].sample(n=int(count_new)))\n",
      "/var/folders/jx/2l7p1chd2l7djbz_8s3s_4z80000gn/T/ipykernel_46933/1348330129.py:10: FutureWarning: The frame.append method is deprecated and will be removed from pandas in a future version. Use pandas.concat instead.\n",
      "  df_new = df_new.append(df[df.fed_y == fed_y_name].sample(n=int(count_new)))\n",
      "/var/folders/jx/2l7p1chd2l7djbz_8s3s_4z80000gn/T/ipykernel_46933/1348330129.py:10: FutureWarning: The frame.append method is deprecated and will be removed from pandas in a future version. Use pandas.concat instead.\n",
      "  df_new = df_new.append(df[df.fed_y == fed_y_name].sample(n=int(count_new)))\n",
      "/var/folders/jx/2l7p1chd2l7djbz_8s3s_4z80000gn/T/ipykernel_46933/1348330129.py:10: FutureWarning: The frame.append method is deprecated and will be removed from pandas in a future version. Use pandas.concat instead.\n",
      "  df_new = df_new.append(df[df.fed_y == fed_y_name].sample(n=int(count_new)))\n",
      "/var/folders/jx/2l7p1chd2l7djbz_8s3s_4z80000gn/T/ipykernel_46933/1348330129.py:10: FutureWarning: The frame.append method is deprecated and will be removed from pandas in a future version. Use pandas.concat instead.\n",
      "  df_new = df_new.append(df[df.fed_y == fed_y_name].sample(n=int(count_new)))\n",
      "/var/folders/jx/2l7p1chd2l7djbz_8s3s_4z80000gn/T/ipykernel_46933/1348330129.py:10: FutureWarning: The frame.append method is deprecated and will be removed from pandas in a future version. Use pandas.concat instead.\n",
      "  df_new = df_new.append(df[df.fed_y == fed_y_name].sample(n=int(count_new)))\n",
      "/var/folders/jx/2l7p1chd2l7djbz_8s3s_4z80000gn/T/ipykernel_46933/1348330129.py:10: FutureWarning: The frame.append method is deprecated and will be removed from pandas in a future version. Use pandas.concat instead.\n",
      "  df_new = df_new.append(df[df.fed_y == fed_y_name].sample(n=int(count_new)))\n",
      "/var/folders/jx/2l7p1chd2l7djbz_8s3s_4z80000gn/T/ipykernel_46933/1348330129.py:10: FutureWarning: The frame.append method is deprecated and will be removed from pandas in a future version. Use pandas.concat instead.\n",
      "  df_new = df_new.append(df[df.fed_y == fed_y_name].sample(n=int(count_new)))\n",
      "/var/folders/jx/2l7p1chd2l7djbz_8s3s_4z80000gn/T/ipykernel_46933/1348330129.py:10: FutureWarning: The frame.append method is deprecated and will be removed from pandas in a future version. Use pandas.concat instead.\n",
      "  df_new = df_new.append(df[df.fed_y == fed_y_name].sample(n=int(count_new)))\n",
      "/var/folders/jx/2l7p1chd2l7djbz_8s3s_4z80000gn/T/ipykernel_46933/1348330129.py:10: FutureWarning: The frame.append method is deprecated and will be removed from pandas in a future version. Use pandas.concat instead.\n",
      "  df_new = df_new.append(df[df.fed_y == fed_y_name].sample(n=int(count_new)))\n",
      "/var/folders/jx/2l7p1chd2l7djbz_8s3s_4z80000gn/T/ipykernel_46933/1348330129.py:10: FutureWarning: The frame.append method is deprecated and will be removed from pandas in a future version. Use pandas.concat instead.\n",
      "  df_new = df_new.append(df[df.fed_y == fed_y_name].sample(n=int(count_new)))\n",
      "/var/folders/jx/2l7p1chd2l7djbz_8s3s_4z80000gn/T/ipykernel_46933/1348330129.py:10: FutureWarning: The frame.append method is deprecated and will be removed from pandas in a future version. Use pandas.concat instead.\n",
      "  df_new = df_new.append(df[df.fed_y == fed_y_name].sample(n=int(count_new)))\n",
      "/var/folders/jx/2l7p1chd2l7djbz_8s3s_4z80000gn/T/ipykernel_46933/1348330129.py:10: FutureWarning: The frame.append method is deprecated and will be removed from pandas in a future version. Use pandas.concat instead.\n",
      "  df_new = df_new.append(df[df.fed_y == fed_y_name].sample(n=int(count_new)))\n",
      "/var/folders/jx/2l7p1chd2l7djbz_8s3s_4z80000gn/T/ipykernel_46933/1348330129.py:10: FutureWarning: The frame.append method is deprecated and will be removed from pandas in a future version. Use pandas.concat instead.\n",
      "  df_new = df_new.append(df[df.fed_y == fed_y_name].sample(n=int(count_new)))\n",
      "/var/folders/jx/2l7p1chd2l7djbz_8s3s_4z80000gn/T/ipykernel_46933/1348330129.py:10: FutureWarning: The frame.append method is deprecated and will be removed from pandas in a future version. Use pandas.concat instead.\n",
      "  df_new = df_new.append(df[df.fed_y == fed_y_name].sample(n=int(count_new)))\n",
      "/var/folders/jx/2l7p1chd2l7djbz_8s3s_4z80000gn/T/ipykernel_46933/1348330129.py:10: FutureWarning: The frame.append method is deprecated and will be removed from pandas in a future version. Use pandas.concat instead.\n",
      "  df_new = df_new.append(df[df.fed_y == fed_y_name].sample(n=int(count_new)))\n",
      "/var/folders/jx/2l7p1chd2l7djbz_8s3s_4z80000gn/T/ipykernel_46933/1348330129.py:10: FutureWarning: The frame.append method is deprecated and will be removed from pandas in a future version. Use pandas.concat instead.\n",
      "  df_new = df_new.append(df[df.fed_y == fed_y_name].sample(n=int(count_new)))\n",
      "/var/folders/jx/2l7p1chd2l7djbz_8s3s_4z80000gn/T/ipykernel_46933/1348330129.py:10: FutureWarning: The frame.append method is deprecated and will be removed from pandas in a future version. Use pandas.concat instead.\n",
      "  df_new = df_new.append(df[df.fed_y == fed_y_name].sample(n=int(count_new)))\n",
      "/var/folders/jx/2l7p1chd2l7djbz_8s3s_4z80000gn/T/ipykernel_46933/1348330129.py:10: FutureWarning: The frame.append method is deprecated and will be removed from pandas in a future version. Use pandas.concat instead.\n",
      "  df_new = df_new.append(df[df.fed_y == fed_y_name].sample(n=int(count_new)))\n",
      "/var/folders/jx/2l7p1chd2l7djbz_8s3s_4z80000gn/T/ipykernel_46933/1348330129.py:10: FutureWarning: The frame.append method is deprecated and will be removed from pandas in a future version. Use pandas.concat instead.\n",
      "  df_new = df_new.append(df[df.fed_y == fed_y_name].sample(n=int(count_new)))\n",
      "/var/folders/jx/2l7p1chd2l7djbz_8s3s_4z80000gn/T/ipykernel_46933/1348330129.py:10: FutureWarning: The frame.append method is deprecated and will be removed from pandas in a future version. Use pandas.concat instead.\n",
      "  df_new = df_new.append(df[df.fed_y == fed_y_name].sample(n=int(count_new)))\n",
      "/var/folders/jx/2l7p1chd2l7djbz_8s3s_4z80000gn/T/ipykernel_46933/1348330129.py:10: FutureWarning: The frame.append method is deprecated and will be removed from pandas in a future version. Use pandas.concat instead.\n",
      "  df_new = df_new.append(df[df.fed_y == fed_y_name].sample(n=int(count_new)))\n",
      "/var/folders/jx/2l7p1chd2l7djbz_8s3s_4z80000gn/T/ipykernel_46933/1348330129.py:10: FutureWarning: The frame.append method is deprecated and will be removed from pandas in a future version. Use pandas.concat instead.\n",
      "  df_new = df_new.append(df[df.fed_y == fed_y_name].sample(n=int(count_new)))\n",
      "/var/folders/jx/2l7p1chd2l7djbz_8s3s_4z80000gn/T/ipykernel_46933/1348330129.py:10: FutureWarning: The frame.append method is deprecated and will be removed from pandas in a future version. Use pandas.concat instead.\n",
      "  df_new = df_new.append(df[df.fed_y == fed_y_name].sample(n=int(count_new)))\n",
      "/var/folders/jx/2l7p1chd2l7djbz_8s3s_4z80000gn/T/ipykernel_46933/1348330129.py:10: FutureWarning: The frame.append method is deprecated and will be removed from pandas in a future version. Use pandas.concat instead.\n",
      "  df_new = df_new.append(df[df.fed_y == fed_y_name].sample(n=int(count_new)))\n",
      "/var/folders/jx/2l7p1chd2l7djbz_8s3s_4z80000gn/T/ipykernel_46933/1348330129.py:10: FutureWarning: The frame.append method is deprecated and will be removed from pandas in a future version. Use pandas.concat instead.\n",
      "  df_new = df_new.append(df[df.fed_y == fed_y_name].sample(n=int(count_new)))\n"
     ]
    }
   ],
   "source": [
    "import random\n",
    "df_new = pd.DataFrame(columns=['federation_level', 'x', 'y', 'fed_y'])\n",
    "for fed_y_name, count in df.fed_y.value_counts().items():\n",
    "    if count > 600:\n",
    "        count_new = random.randint(30,40)\n",
    "    if count > 200 and count <= 600:\n",
    "        count_new = random.randint(15, 30)\n",
    "    if count <= 200:    \n",
    "        count_new = random.randint(7, 15)    \n",
    "    df_new = df_new.append(df[df.fed_y == fed_y_name].sample(n=int(count_new)))\n",
    "print(df_new.shape)"
   ]
  },
  {
   "cell_type": "code",
   "execution_count": 140,
   "metadata": {},
   "outputs": [
    {
     "name": "stdout",
     "output_type": "stream",
     "text": [
      "Switzerland_0 49\n",
      "Spain_3 48\n",
      "Spain_2 46\n",
      "Germany_0 45\n",
      "France_0 45\n",
      "Spain_4 44\n",
      "Belgium_0 43\n",
      "France_4 42\n",
      "Germany_2 41\n",
      "France_3 40\n",
      "Spain_1 39\n",
      "Germany_3 38\n",
      "France_2 36\n",
      "Belgium_2 35\n",
      "Switzerland_4 35\n",
      "Czech Republic_0 34\n",
      "Spain_0 32\n",
      "Belgium_4 32\n",
      "Germany_1 31\n",
      "Germany_4 30\n",
      "Poland_1 28\n",
      "Portugal_1 26\n",
      "Switzerland_2 25\n",
      "Belgium_3 24\n",
      "Switzerland_3 24\n",
      "France_1 23\n",
      "Portugal_3 23\n",
      "Portugal_0 21\n",
      "Czech Republic_1 21\n",
      "Belgium_1 20\n",
      "Czech Republic_3 19\n",
      "Poland_2 18\n",
      "Poland_3 17\n",
      "Switzerland_1 17\n",
      "Czech Republic_2 17\n",
      "Portugal_4 13\n",
      "Poland_0 13\n",
      "Poland_4 10\n",
      "Czech Republic_4 8\n",
      "Portugal_2 7\n"
     ]
    }
   ],
   "source": [
    "for fed_y_name, count in df_new.fed_y.value_counts().items():\n",
    "    print(fed_y_name, count)"
   ]
  },
  {
   "cell_type": "code",
   "execution_count": 141,
   "metadata": {},
   "outputs": [],
   "source": [
    "import tiktoken\n",
    "def num_tokens_from_string(string: str, encoding_name: str) -> int:\n",
    "    \"\"\"Returns the number of tokens in a text string.\"\"\"\n",
    "    encoding = tiktoken.get_encoding(encoding_name)\n",
    "    num_tokens = len(encoding.encode(string))\n",
    "    return num_tokens"
   ]
  },
  {
   "cell_type": "code",
   "execution_count": 142,
   "metadata": {},
   "outputs": [],
   "source": [
    "df_new['num_tokens'] = df_new['x'].apply(lambda x: num_tokens_from_string(x, 'cl100k_base'))"
   ]
  },
  {
   "cell_type": "code",
   "execution_count": 143,
   "metadata": {},
   "outputs": [
    {
     "name": "stdout",
     "output_type": "stream",
     "text": [
      "103220\n",
      "206.44\n"
     ]
    }
   ],
   "source": [
    "print(df_new['num_tokens'].sum())\n",
    "print(df_new['num_tokens'].sum()*0.002)"
   ]
  },
  {
   "cell_type": "code",
   "execution_count": 144,
   "metadata": {},
   "outputs": [
    {
     "ename": "KeyError",
     "evalue": "10",
     "output_type": "error",
     "traceback": [
      "\u001b[0;31m---------------------------------------------------------------------------\u001b[0m",
      "\u001b[0;31mValueError\u001b[0m                                Traceback (most recent call last)",
      "File \u001b[0;32m~/miniconda3/lib/python3.9/site-packages/pandas/core/indexes/range.py:391\u001b[0m, in \u001b[0;36mRangeIndex.get_loc\u001b[0;34m(self, key, method, tolerance)\u001b[0m\n\u001b[1;32m    390\u001b[0m \u001b[39mtry\u001b[39;00m:\n\u001b[0;32m--> 391\u001b[0m     \u001b[39mreturn\u001b[39;00m \u001b[39mself\u001b[39;49m\u001b[39m.\u001b[39;49m_range\u001b[39m.\u001b[39;49mindex(new_key)\n\u001b[1;32m    392\u001b[0m \u001b[39mexcept\u001b[39;00m \u001b[39mValueError\u001b[39;00m \u001b[39mas\u001b[39;00m err:\n",
      "\u001b[0;31mValueError\u001b[0m: 10 is not in range",
      "\nThe above exception was the direct cause of the following exception:\n",
      "\u001b[0;31mKeyError\u001b[0m                                  Traceback (most recent call last)",
      "\u001b[1;32m/Users/kiliansprenkamp/Desktop/code/refugee_federated_text_classification/src/helper/preprocess.ipynb Cell 8\u001b[0m in \u001b[0;36m<cell line: 1>\u001b[0;34m()\u001b[0m\n\u001b[0;32m----> <a href='vscode-notebook-cell:/Users/kiliansprenkamp/Desktop/code/refugee_federated_text_classification/src/helper/preprocess.ipynb#W4sZmlsZQ%3D%3D?line=0'>1</a>\u001b[0m df[df\u001b[39m.\u001b[39;49my\u001b[39m==\u001b[39;49m\u001b[39m9\u001b[39;49m]\u001b[39m.\u001b[39;49mreset_index(drop\u001b[39m=\u001b[39;49m\u001b[39mTrue\u001b[39;49;00m)\u001b[39m.\u001b[39;49mloc[\u001b[39m10\u001b[39;49m][\u001b[39m'\u001b[39m\u001b[39mx\u001b[39m\u001b[39m'\u001b[39m]\n",
      "File \u001b[0;32m~/miniconda3/lib/python3.9/site-packages/pandas/core/indexing.py:1073\u001b[0m, in \u001b[0;36m_LocationIndexer.__getitem__\u001b[0;34m(self, key)\u001b[0m\n\u001b[1;32m   1070\u001b[0m axis \u001b[39m=\u001b[39m \u001b[39mself\u001b[39m\u001b[39m.\u001b[39maxis \u001b[39mor\u001b[39;00m \u001b[39m0\u001b[39m\n\u001b[1;32m   1072\u001b[0m maybe_callable \u001b[39m=\u001b[39m com\u001b[39m.\u001b[39mapply_if_callable(key, \u001b[39mself\u001b[39m\u001b[39m.\u001b[39mobj)\n\u001b[0;32m-> 1073\u001b[0m \u001b[39mreturn\u001b[39;00m \u001b[39mself\u001b[39;49m\u001b[39m.\u001b[39;49m_getitem_axis(maybe_callable, axis\u001b[39m=\u001b[39;49maxis)\n",
      "File \u001b[0;32m~/miniconda3/lib/python3.9/site-packages/pandas/core/indexing.py:1312\u001b[0m, in \u001b[0;36m_LocIndexer._getitem_axis\u001b[0;34m(self, key, axis)\u001b[0m\n\u001b[1;32m   1310\u001b[0m \u001b[39m# fall thru to straight lookup\u001b[39;00m\n\u001b[1;32m   1311\u001b[0m \u001b[39mself\u001b[39m\u001b[39m.\u001b[39m_validate_key(key, axis)\n\u001b[0;32m-> 1312\u001b[0m \u001b[39mreturn\u001b[39;00m \u001b[39mself\u001b[39;49m\u001b[39m.\u001b[39;49m_get_label(key, axis\u001b[39m=\u001b[39;49maxis)\n",
      "File \u001b[0;32m~/miniconda3/lib/python3.9/site-packages/pandas/core/indexing.py:1260\u001b[0m, in \u001b[0;36m_LocIndexer._get_label\u001b[0;34m(self, label, axis)\u001b[0m\n\u001b[1;32m   1258\u001b[0m \u001b[39mdef\u001b[39;00m \u001b[39m_get_label\u001b[39m(\u001b[39mself\u001b[39m, label, axis: \u001b[39mint\u001b[39m):\n\u001b[1;32m   1259\u001b[0m     \u001b[39m# GH#5567 this will fail if the label is not present in the axis.\u001b[39;00m\n\u001b[0;32m-> 1260\u001b[0m     \u001b[39mreturn\u001b[39;00m \u001b[39mself\u001b[39;49m\u001b[39m.\u001b[39;49mobj\u001b[39m.\u001b[39;49mxs(label, axis\u001b[39m=\u001b[39;49maxis)\n",
      "File \u001b[0;32m~/miniconda3/lib/python3.9/site-packages/pandas/core/generic.py:4056\u001b[0m, in \u001b[0;36mNDFrame.xs\u001b[0;34m(self, key, axis, level, drop_level)\u001b[0m\n\u001b[1;32m   4054\u001b[0m             new_index \u001b[39m=\u001b[39m index[loc]\n\u001b[1;32m   4055\u001b[0m \u001b[39melse\u001b[39;00m:\n\u001b[0;32m-> 4056\u001b[0m     loc \u001b[39m=\u001b[39m index\u001b[39m.\u001b[39;49mget_loc(key)\n\u001b[1;32m   4058\u001b[0m     \u001b[39mif\u001b[39;00m \u001b[39misinstance\u001b[39m(loc, np\u001b[39m.\u001b[39mndarray):\n\u001b[1;32m   4059\u001b[0m         \u001b[39mif\u001b[39;00m loc\u001b[39m.\u001b[39mdtype \u001b[39m==\u001b[39m np\u001b[39m.\u001b[39mbool_:\n",
      "File \u001b[0;32m~/miniconda3/lib/python3.9/site-packages/pandas/core/indexes/range.py:393\u001b[0m, in \u001b[0;36mRangeIndex.get_loc\u001b[0;34m(self, key, method, tolerance)\u001b[0m\n\u001b[1;32m    391\u001b[0m         \u001b[39mreturn\u001b[39;00m \u001b[39mself\u001b[39m\u001b[39m.\u001b[39m_range\u001b[39m.\u001b[39mindex(new_key)\n\u001b[1;32m    392\u001b[0m     \u001b[39mexcept\u001b[39;00m \u001b[39mValueError\u001b[39;00m \u001b[39mas\u001b[39;00m err:\n\u001b[0;32m--> 393\u001b[0m         \u001b[39mraise\u001b[39;00m \u001b[39mKeyError\u001b[39;00m(key) \u001b[39mfrom\u001b[39;00m \u001b[39merr\u001b[39;00m\n\u001b[1;32m    394\u001b[0m \u001b[39mself\u001b[39m\u001b[39m.\u001b[39m_check_indexing_error(key)\n\u001b[1;32m    395\u001b[0m \u001b[39mraise\u001b[39;00m \u001b[39mKeyError\u001b[39;00m(key)\n",
      "\u001b[0;31mKeyError\u001b[0m: 10"
     ]
    }
   ],
   "source": [
    "df[df.y==9].reset_index(drop=True).loc[10]['x']"
   ]
  },
  {
   "cell_type": "code",
   "execution_count": 149,
   "metadata": {},
   "outputs": [],
   "source": [
    "df_new.to_csv('../../data/df_gpt_input.csv', index=False)"
   ]
  },
  {
   "cell_type": "code",
   "execution_count": 117,
   "metadata": {},
   "outputs": [
    {
     "data": {
      "text/plain": [
       "Spain_0          25\n",
       "Germany_4        25\n",
       "Belgium_9        25\n",
       "Switzerland_4    25\n",
       "Switzerland_6    24\n",
       "                 ..\n",
       "Portugal_4        8\n",
       "Belgium_2         7\n",
       "Poland_2          7\n",
       "Portugal_7        7\n",
       "France_2          7\n",
       "Name: fed_y, Length: 64, dtype: int64"
      ]
     },
     "execution_count": 117,
     "metadata": {},
     "output_type": "execute_result"
    }
   ],
   "source": [
    "df_new.fed_y.value_counts()"
   ]
  },
  {
   "cell_type": "code",
   "execution_count": null,
   "metadata": {},
   "outputs": [],
   "source": []
  }
 ],
 "metadata": {
  "kernelspec": {
   "display_name": "base",
   "language": "python",
   "name": "python3"
  },
  "language_info": {
   "codemirror_mode": {
    "name": "ipython",
    "version": 3
   },
   "file_extension": ".py",
   "mimetype": "text/x-python",
   "name": "python",
   "nbconvert_exporter": "python",
   "pygments_lexer": "ipython3",
   "version": "3.9.13"
  },
  "orig_nbformat": 4
 },
 "nbformat": 4,
 "nbformat_minor": 2
}
